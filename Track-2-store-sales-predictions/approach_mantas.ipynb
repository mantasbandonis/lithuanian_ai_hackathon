{
 "cells": [
  {
   "cell_type": "code",
   "execution_count": 1,
   "id": "steady-overview",
   "metadata": {},
   "outputs": [],
   "source": [
    "#import dependencies\n",
    "\n",
    "import warnings \n",
    "warnings.filterwarnings('ignore')\n",
    "\n",
    "#Basic packages\n",
    "import os\n",
    "import pandas as pd\n",
    "import numpy as np\n",
    "import datetime\n",
    "\n",
    "# Visualization\n",
    "import matplotlib.pyplot as plt\n",
    "import seaborn as sns\n",
    "\n",
    "# statistics\n",
    "from statsmodels.distributions.empirical_distribution import ECDF\n",
    "\n",
    "# time series analysis\n",
    "from statsmodels.tsa.seasonal import seasonal_decompose\n",
    "from statsmodels.graphics.tsaplots import plot_acf, plot_pacf\n",
    "\n",
    "# Time Series\n",
    "from statsmodels.tsa.arima_model import ARIMA\n",
    "from statsmodels.tsa.statespace.sarimax import SARIMAX\n",
    "from pandas.plotting import autocorrelation_plot\n",
    "from statsmodels.tsa.stattools import adfuller, acf, pacf,arma_order_select_ic\n",
    "import statsmodels.formula.api as smf\n",
    "import statsmodels.tsa.api as smt\n",
    "import statsmodels.api as sm\n",
    "import scipy.stats as scs\n",
    "\n",
    "# prophet by Facebook\n",
    "from fbprophet import Prophet\n",
    "\n",
    "color = sns.color_palette()\n",
    "sns.set_style('darkgrid')"
   ]
  },
  {
   "cell_type": "code",
   "execution_count": 2,
   "id": "liked-quebec",
   "metadata": {},
   "outputs": [],
   "source": [
    "train_data_csv = \"train_data.csv\"\n",
    "test_data_csv = \"test_data.csv\"\n",
    "sample_submission_csv = \"test_predictions_format.csv\""
   ]
  },
  {
   "cell_type": "code",
   "execution_count": 12,
   "id": "substantial-stanford",
   "metadata": {},
   "outputs": [],
   "source": [
    "train = pd.read_csv(train_data_csv, parse_dates = True,\n",
    "                    low_memory = False, index_col = 'Date')\n",
    "test = pd.read_csv(test_data_csv, parse_dates = True,\n",
    "                   low_memory = False, index_col = 'Date')\n",
    "submission = pd.read_csv(sample_submission_csv)"
   ]
  },
  {
   "cell_type": "code",
   "execution_count": 13,
   "id": "cross-attitude",
   "metadata": {},
   "outputs": [
    {
     "name": "stdout",
     "output_type": "stream",
     "text": [
      "Check imported data\n",
      "\n",
      "In total:\n",
      "train.shape (1017209, 9) \n",
      "test.shape (41088, 9) \n",
      "submission.shape (41088, 2) \n",
      "\n",
      "train.columns Index(['Store', 'DayOfWeek', 'Sales', 'ShopOpen', 'Promotion', 'StateHoliday',\n",
      "       'SchoolHoliday', 'StoreType', 'AssortmentType'],\n",
      "      dtype='object') \n",
      "test.colmuns Index(['Id', 'Store', 'DayOfWeek', 'ShopOpen', 'Promotion', 'StateHoliday',\n",
      "       'SchoolHoliday', 'StoreType', 'AssortmentType'],\n",
      "      dtype='object') \n",
      "submission.colmuns Index(['Id', 'Sales'], dtype='object') \n",
      "\n",
      "train.index DatetimeIndex(['2015-07-31', '2015-07-31', '2015-07-31', '2015-07-31',\n",
      "               '2015-07-31', '2015-07-31', '2015-07-31', '2015-07-31',\n",
      "               '2015-07-31', '2015-07-31',\n",
      "               ...\n",
      "               '2013-01-01', '2013-01-01', '2013-01-01', '2013-01-01',\n",
      "               '2013-01-01', '2013-01-01', '2013-01-01', '2013-01-01',\n",
      "               '2013-01-01', '2013-01-01'],\n",
      "              dtype='datetime64[ns]', name='Date', length=1017209, freq=None) \n",
      "test.index DatetimeIndex(['2015-09-17', '2015-09-17', '2015-09-17', '2015-09-17',\n",
      "               '2015-09-17', '2015-09-17', '2015-09-17', '2015-09-17',\n",
      "               '2015-09-17', '2015-09-17',\n",
      "               ...\n",
      "               '2015-08-01', '2015-08-01', '2015-08-01', '2015-08-01',\n",
      "               '2015-08-01', '2015-08-01', '2015-08-01', '2015-08-01',\n",
      "               '2015-08-01', '2015-08-01'],\n",
      "              dtype='datetime64[ns]', name='Date', length=41088, freq=None) \n",
      "submission.index RangeIndex(start=0, stop=41088, step=1) \n"
     ]
    }
   ],
   "source": [
    "print(\"Check imported data\")\n",
    "print()\n",
    "print(\"In total:\")\n",
    "print(\"train.shape {} \".format(train.shape))\n",
    "print(\"test.shape {} \".format(test.shape))\n",
    "print(\"submission.shape {} \".format(submission.shape))\n",
    "print()\n",
    "print(\"train.columns {} \".format(train.columns))\n",
    "print(\"test.colmuns {} \".format(test.columns))\n",
    "print(\"submission.colmuns {} \".format(submission.columns))\n",
    "print()\n",
    "print(\"train.index {} \".format(train.index))\n",
    "print(\"test.index {} \".format(test.index))\n",
    "print(\"submission.index {} \".format(submission.index))"
   ]
  },
  {
   "cell_type": "code",
   "execution_count": 5,
   "id": "atlantic-prefix",
   "metadata": {},
   "outputs": [
    {
     "data": {
      "text/html": [
       "<div>\n",
       "<style scoped>\n",
       "    .dataframe tbody tr th:only-of-type {\n",
       "        vertical-align: middle;\n",
       "    }\n",
       "\n",
       "    .dataframe tbody tr th {\n",
       "        vertical-align: top;\n",
       "    }\n",
       "\n",
       "    .dataframe thead th {\n",
       "        text-align: right;\n",
       "    }\n",
       "</style>\n",
       "<table border=\"1\" class=\"dataframe\">\n",
       "  <thead>\n",
       "    <tr style=\"text-align: right;\">\n",
       "      <th></th>\n",
       "      <th>Store</th>\n",
       "      <th>DayOfWeek</th>\n",
       "      <th>Sales</th>\n",
       "      <th>ShopOpen</th>\n",
       "      <th>Promotion</th>\n",
       "      <th>StateHoliday</th>\n",
       "      <th>SchoolHoliday</th>\n",
       "      <th>StoreType</th>\n",
       "      <th>AssortmentType</th>\n",
       "    </tr>\n",
       "    <tr>\n",
       "      <th>Date</th>\n",
       "      <th></th>\n",
       "      <th></th>\n",
       "      <th></th>\n",
       "      <th></th>\n",
       "      <th></th>\n",
       "      <th></th>\n",
       "      <th></th>\n",
       "      <th></th>\n",
       "      <th></th>\n",
       "    </tr>\n",
       "  </thead>\n",
       "  <tbody>\n",
       "    <tr>\n",
       "      <th>2015-07-31</th>\n",
       "      <td>1</td>\n",
       "      <td>5</td>\n",
       "      <td>5263</td>\n",
       "      <td>1</td>\n",
       "      <td>1</td>\n",
       "      <td>0</td>\n",
       "      <td>1</td>\n",
       "      <td>c</td>\n",
       "      <td>a</td>\n",
       "    </tr>\n",
       "    <tr>\n",
       "      <th>2015-07-31</th>\n",
       "      <td>2</td>\n",
       "      <td>5</td>\n",
       "      <td>6064</td>\n",
       "      <td>1</td>\n",
       "      <td>1</td>\n",
       "      <td>0</td>\n",
       "      <td>1</td>\n",
       "      <td>a</td>\n",
       "      <td>a</td>\n",
       "    </tr>\n",
       "    <tr>\n",
       "      <th>2015-07-31</th>\n",
       "      <td>3</td>\n",
       "      <td>5</td>\n",
       "      <td>8314</td>\n",
       "      <td>1</td>\n",
       "      <td>1</td>\n",
       "      <td>0</td>\n",
       "      <td>1</td>\n",
       "      <td>a</td>\n",
       "      <td>a</td>\n",
       "    </tr>\n",
       "    <tr>\n",
       "      <th>2015-07-31</th>\n",
       "      <td>4</td>\n",
       "      <td>5</td>\n",
       "      <td>13995</td>\n",
       "      <td>1</td>\n",
       "      <td>1</td>\n",
       "      <td>0</td>\n",
       "      <td>1</td>\n",
       "      <td>c</td>\n",
       "      <td>c</td>\n",
       "    </tr>\n",
       "    <tr>\n",
       "      <th>2015-07-31</th>\n",
       "      <td>5</td>\n",
       "      <td>5</td>\n",
       "      <td>4822</td>\n",
       "      <td>1</td>\n",
       "      <td>1</td>\n",
       "      <td>0</td>\n",
       "      <td>1</td>\n",
       "      <td>a</td>\n",
       "      <td>a</td>\n",
       "    </tr>\n",
       "  </tbody>\n",
       "</table>\n",
       "</div>"
      ],
      "text/plain": [
       "            Store  DayOfWeek  Sales  ShopOpen  Promotion StateHoliday  \\\n",
       "Date                                                                    \n",
       "2015-07-31      1          5   5263         1          1            0   \n",
       "2015-07-31      2          5   6064         1          1            0   \n",
       "2015-07-31      3          5   8314         1          1            0   \n",
       "2015-07-31      4          5  13995         1          1            0   \n",
       "2015-07-31      5          5   4822         1          1            0   \n",
       "\n",
       "            SchoolHoliday StoreType AssortmentType  \n",
       "Date                                                \n",
       "2015-07-31              1         c              a  \n",
       "2015-07-31              1         a              a  \n",
       "2015-07-31              1         a              a  \n",
       "2015-07-31              1         c              c  \n",
       "2015-07-31              1         a              a  "
      ]
     },
     "execution_count": 5,
     "metadata": {},
     "output_type": "execute_result"
    }
   ],
   "source": [
    "#train_df['date'] = pd.to_datetime(train_df['Date'], format=\"%Y-%m-%d\")\n",
    "train.head()"
   ]
  },
  {
   "cell_type": "code",
   "execution_count": 15,
   "id": "medical-grain",
   "metadata": {},
   "outputs": [],
   "source": [
    "del train[\"StoreType\"]\n",
    "del train[\"AssortmentType\"]\n",
    "del test[\"StoreType\"]\n",
    "del test[\"AssortmentType\"]"
   ]
  },
  {
   "cell_type": "code",
   "execution_count": 17,
   "id": "steady-voluntary",
   "metadata": {},
   "outputs": [
    {
     "name": "stdout",
     "output_type": "stream",
     "text": [
      "Empty DataFrame\n",
      "Columns: [Store, DayOfWeek, Sales, ShopOpen, Promotion, StateHoliday, SchoolHoliday]\n",
      "Index: []\n",
      "Empty DataFrame\n",
      "Columns: [Id, Store, DayOfWeek, ShopOpen, Promotion, StateHoliday, SchoolHoliday]\n",
      "Index: []\n"
     ]
    }
   ],
   "source": [
    "# rows which contains NA column\n",
    "print(train[train.isna().any(axis=1)])\n",
    "\n",
    "# rows which contains NA column\n",
    "print(test[test.isna().any(axis=1)])"
   ]
  },
  {
   "cell_type": "code",
   "execution_count": 18,
   "id": "pediatric-chorus",
   "metadata": {},
   "outputs": [
    {
     "name": "stdout",
     "output_type": "stream",
     "text": [
      "<class 'pandas.core.frame.DataFrame'>\n",
      "DatetimeIndex: 1017209 entries, 2015-07-31 to 2013-01-01\n",
      "Data columns (total 7 columns):\n",
      " #   Column         Non-Null Count    Dtype \n",
      "---  ------         --------------    ----- \n",
      " 0   Store          1017209 non-null  int64 \n",
      " 1   DayOfWeek      1017209 non-null  int64 \n",
      " 2   Sales          1017209 non-null  int64 \n",
      " 3   ShopOpen       1017209 non-null  int64 \n",
      " 4   Promotion      1017209 non-null  int64 \n",
      " 5   StateHoliday   1017209 non-null  object\n",
      " 6   SchoolHoliday  1017209 non-null  int64 \n",
      "dtypes: int64(6), object(1)\n",
      "memory usage: 62.1+ MB\n"
     ]
    }
   ],
   "source": [
    "train.info()"
   ]
  },
  {
   "cell_type": "code",
   "execution_count": 19,
   "id": "communist-spell",
   "metadata": {},
   "outputs": [
    {
     "data": {
      "image/png": "[encoded data removed]",
      "text/plain": [
       "<Figure size 864x936 with 1 Axes>"
      ]
     },
     "metadata": {},
     "output_type": "display_data"
    }
   ],
   "source": [
    "sns.set(style = \"ticks\")# to format into seaborn \n",
    "c = '#386B7F' # basic color for plots\n",
    "plt.figure(figsize = (12, 13))\n",
    "\n",
    "plt.subplot(313)\n",
    "cdf = ECDF(train['Sales'])\n",
    "plt.plot(cdf.x, cdf.y, label = \"statmodels\", color = c);\n",
    "plt.xlabel('sales'); plt.ylabel('ECDF');"
   ]
  },
  {
   "cell_type": "code",
   "execution_count": 26,
   "id": "approximate-pencil",
   "metadata": {},
   "outputs": [],
   "source": [
    "train_X = train.copy(deep=True)\n",
    "del train_X['Sales']\n",
    "train_y = train['Sales']"
   ]
  },
  {
   "cell_type": "code",
   "execution_count": 27,
   "id": "arabic-words",
   "metadata": {},
   "outputs": [
    {
     "data": {
      "text/html": [
       "<div>\n",
       "<style scoped>\n",
       "    .dataframe tbody tr th:only-of-type {\n",
       "        vertical-align: middle;\n",
       "    }\n",
       "\n",
       "    .dataframe tbody tr th {\n",
       "        vertical-align: top;\n",
       "    }\n",
       "\n",
       "    .dataframe thead th {\n",
       "        text-align: right;\n",
       "    }\n",
       "</style>\n",
       "<table border=\"1\" class=\"dataframe\">\n",
       "  <thead>\n",
       "    <tr style=\"text-align: right;\">\n",
       "      <th></th>\n",
       "      <th>Date</th>\n",
       "      <th>Store</th>\n",
       "      <th>DayOfWeek</th>\n",
       "      <th>Sales</th>\n",
       "      <th>ShopOpen</th>\n",
       "      <th>Promotion</th>\n",
       "      <th>StateHoliday</th>\n",
       "      <th>SchoolHoliday</th>\n",
       "    </tr>\n",
       "  </thead>\n",
       "  <tbody>\n",
       "    <tr>\n",
       "      <th>0</th>\n",
       "      <td>2015-07-31</td>\n",
       "      <td>1</td>\n",
       "      <td>5</td>\n",
       "      <td>5263</td>\n",
       "      <td>1</td>\n",
       "      <td>1</td>\n",
       "      <td>0</td>\n",
       "      <td>1</td>\n",
       "    </tr>\n",
       "    <tr>\n",
       "      <th>1</th>\n",
       "      <td>2015-07-31</td>\n",
       "      <td>2</td>\n",
       "      <td>5</td>\n",
       "      <td>6064</td>\n",
       "      <td>1</td>\n",
       "      <td>1</td>\n",
       "      <td>0</td>\n",
       "      <td>1</td>\n",
       "    </tr>\n",
       "    <tr>\n",
       "      <th>2</th>\n",
       "      <td>2015-07-31</td>\n",
       "      <td>3</td>\n",
       "      <td>5</td>\n",
       "      <td>8314</td>\n",
       "      <td>1</td>\n",
       "      <td>1</td>\n",
       "      <td>0</td>\n",
       "      <td>1</td>\n",
       "    </tr>\n",
       "    <tr>\n",
       "      <th>3</th>\n",
       "      <td>2015-07-31</td>\n",
       "      <td>4</td>\n",
       "      <td>5</td>\n",
       "      <td>13995</td>\n",
       "      <td>1</td>\n",
       "      <td>1</td>\n",
       "      <td>0</td>\n",
       "      <td>1</td>\n",
       "    </tr>\n",
       "    <tr>\n",
       "      <th>4</th>\n",
       "      <td>2015-07-31</td>\n",
       "      <td>5</td>\n",
       "      <td>5</td>\n",
       "      <td>4822</td>\n",
       "      <td>1</td>\n",
       "      <td>1</td>\n",
       "      <td>0</td>\n",
       "      <td>1</td>\n",
       "    </tr>\n",
       "  </tbody>\n",
       "</table>\n",
       "</div>"
      ],
      "text/plain": [
       "        Date  Store  DayOfWeek  Sales  ShopOpen  Promotion StateHoliday  \\\n",
       "0 2015-07-31      1          5   5263         1          1            0   \n",
       "1 2015-07-31      2          5   6064         1          1            0   \n",
       "2 2015-07-31      3          5   8314         1          1            0   \n",
       "3 2015-07-31      4          5  13995         1          1            0   \n",
       "4 2015-07-31      5          5   4822         1          1            0   \n",
       "\n",
       "   SchoolHoliday  \n",
       "0              1  \n",
       "1              1  \n",
       "2              1  \n",
       "3              1  \n",
       "4              1  "
      ]
     },
     "execution_count": 27,
     "metadata": {},
     "output_type": "execute_result"
    }
   ],
   "source": [
    "trainx = train.reset_index()\n",
    "trainx.head()"
   ]
  },
  {
   "cell_type": "code",
   "execution_count": 28,
   "id": "occasional-uganda",
   "metadata": {},
   "outputs": [
    {
     "data": {
      "text/plain": [
       "Index(['Store', 'DayOfWeek', 'ShopOpen', 'Promotion', 'StateHoliday',\n",
       "       'SchoolHoliday'],\n",
       "      dtype='object')"
      ]
     },
     "execution_count": 28,
     "metadata": {},
     "output_type": "execute_result"
    }
   ],
   "source": [
    "test_X = test.copy(deep=True)\n",
    "del test_X['Id']\n",
    "test_X.columns"
   ]
  },
  {
   "cell_type": "code",
   "execution_count": 29,
   "id": "magnetic-broadway",
   "metadata": {},
   "outputs": [
    {
     "data": {
      "text/html": [
       "<div>\n",
       "<style scoped>\n",
       "    .dataframe tbody tr th:only-of-type {\n",
       "        vertical-align: middle;\n",
       "    }\n",
       "\n",
       "    .dataframe tbody tr th {\n",
       "        vertical-align: top;\n",
       "    }\n",
       "\n",
       "    .dataframe thead th {\n",
       "        text-align: right;\n",
       "    }\n",
       "</style>\n",
       "<table border=\"1\" class=\"dataframe\">\n",
       "  <thead>\n",
       "    <tr style=\"text-align: right;\">\n",
       "      <th></th>\n",
       "      <th>Date</th>\n",
       "      <th>Store</th>\n",
       "      <th>DayOfWeek</th>\n",
       "      <th>ShopOpen</th>\n",
       "      <th>Promotion</th>\n",
       "      <th>StateHoliday</th>\n",
       "      <th>SchoolHoliday</th>\n",
       "    </tr>\n",
       "  </thead>\n",
       "  <tbody>\n",
       "    <tr>\n",
       "      <th>0</th>\n",
       "      <td>2015-09-17</td>\n",
       "      <td>1</td>\n",
       "      <td>4</td>\n",
       "      <td>1</td>\n",
       "      <td>1</td>\n",
       "      <td>0</td>\n",
       "      <td>0</td>\n",
       "    </tr>\n",
       "    <tr>\n",
       "      <th>1</th>\n",
       "      <td>2015-09-17</td>\n",
       "      <td>3</td>\n",
       "      <td>4</td>\n",
       "      <td>1</td>\n",
       "      <td>1</td>\n",
       "      <td>0</td>\n",
       "      <td>0</td>\n",
       "    </tr>\n",
       "    <tr>\n",
       "      <th>2</th>\n",
       "      <td>2015-09-17</td>\n",
       "      <td>7</td>\n",
       "      <td>4</td>\n",
       "      <td>1</td>\n",
       "      <td>1</td>\n",
       "      <td>0</td>\n",
       "      <td>0</td>\n",
       "    </tr>\n",
       "    <tr>\n",
       "      <th>3</th>\n",
       "      <td>2015-09-17</td>\n",
       "      <td>8</td>\n",
       "      <td>4</td>\n",
       "      <td>1</td>\n",
       "      <td>1</td>\n",
       "      <td>0</td>\n",
       "      <td>0</td>\n",
       "    </tr>\n",
       "    <tr>\n",
       "      <th>4</th>\n",
       "      <td>2015-09-17</td>\n",
       "      <td>9</td>\n",
       "      <td>4</td>\n",
       "      <td>1</td>\n",
       "      <td>1</td>\n",
       "      <td>0</td>\n",
       "      <td>0</td>\n",
       "    </tr>\n",
       "  </tbody>\n",
       "</table>\n",
       "</div>"
      ],
      "text/plain": [
       "        Date  Store  DayOfWeek  ShopOpen  Promotion StateHoliday  \\\n",
       "0 2015-09-17      1          4         1          1            0   \n",
       "1 2015-09-17      3          4         1          1            0   \n",
       "2 2015-09-17      7          4         1          1            0   \n",
       "3 2015-09-17      8          4         1          1            0   \n",
       "4 2015-09-17      9          4         1          1            0   \n",
       "\n",
       "   SchoolHoliday  \n",
       "0              0  \n",
       "1              0  \n",
       "2              0  \n",
       "3              0  \n",
       "4              0  "
      ]
     },
     "execution_count": 29,
     "metadata": {},
     "output_type": "execute_result"
    }
   ],
   "source": [
    "testx = test.drop('Id',axis=1)\n",
    "testx = testx.reset_index()\n",
    "testx.head()"
   ]
  },
  {
   "cell_type": "code",
   "execution_count": 31,
   "id": "enabling-spice",
   "metadata": {},
   "outputs": [],
   "source": [
    "train_X['StateHoliday'].replace(to_replace=['a', 'b', 'c'], value=[1, 1, 1], inplace=True)"
   ]
  },
  {
   "cell_type": "code",
   "execution_count": 32,
   "id": "operating-photographer",
   "metadata": {},
   "outputs": [
    {
     "data": {
      "text/plain": [
       "0    986159\n",
       "1     31050\n",
       "Name: StateHoliday, dtype: int64"
      ]
     },
     "execution_count": 32,
     "metadata": {},
     "output_type": "execute_result"
    }
   ],
   "source": [
    "train_X['StateHoliday'].value_counts()"
   ]
  },
  {
   "cell_type": "code",
   "execution_count": 33,
   "id": "limited-denmark",
   "metadata": {},
   "outputs": [
    {
     "data": {
      "text/plain": [
       "0    40908\n",
       "1      180\n",
       "Name: StateHoliday, dtype: int64"
      ]
     },
     "execution_count": 33,
     "metadata": {},
     "output_type": "execute_result"
    }
   ],
   "source": [
    "test_X['StateHoliday'].replace(to_replace=['a'], value=[1], inplace=True)\n",
    "test_X['StateHoliday'].value_counts()"
   ]
  },
  {
   "cell_type": "code",
   "execution_count": 35,
   "id": "monetary-attraction",
   "metadata": {},
   "outputs": [],
   "source": [
    "from auto_ts import auto_timeseries"
   ]
  },
  {
   "cell_type": "code",
   "execution_count": 37,
   "id": "amino-split",
   "metadata": {},
   "outputs": [],
   "source": [
    "model = auto_timeseries(score_type='rmse',forecast_period=100,\n",
    "                time_interval='D',\n",
    "                non_seasonal_pdq=None, seasonality=False, seasonal_period=1,\n",
    "                model_type=['ML'],\n",
    "                verbose=2)"
   ]
  },
  {
   "cell_type": "code",
   "execution_count": 46,
   "id": "skilled-pearl",
   "metadata": {},
   "outputs": [
    {
     "data": {
      "text/plain": [
       "1    844392\n",
       "0    172817\n",
       "Name: ShopOpen, dtype: int64"
      ]
     },
     "execution_count": 46,
     "metadata": {},
     "output_type": "execute_result"
    }
   ],
   "source": [
    "#train['StateHoliday'].replace(to_replace=['a', 'b', 'c'], value=[1, 1, 1], inplace=True)\n",
    "train['ShopOpen'].value_counts()"
   ]
  },
  {
   "cell_type": "code",
   "execution_count": 38,
   "id": "private-wallace",
   "metadata": {},
   "outputs": [],
   "source": [
    "ts_column = 'Date'\n",
    "target = 'Sales'"
   ]
  },
  {
   "cell_type": "code",
   "execution_count": 39,
   "id": "classified-phone",
   "metadata": {},
   "outputs": [
    {
     "name": "stdout",
     "output_type": "stream",
     "text": [
      "Start of Fit.....\n",
      "Running Augmented Dickey-Fuller test with paramters:\n",
      "    maxlag: 31 regression: c autolag: BIC\n",
      "Results of Augmented Dickey-Fuller Test:\n",
      "+-----------------------------+------------------------------+\n",
      "|                             | Dickey-Fuller Augmented Test |\n",
      "+-----------------------------+------------------------------+\n",
      "|        Test Statistic       |      -33.12720931212863      |\n",
      "|           p-value           |             0.0              |\n",
      "|          #Lags Used         |             31.0             |\n",
      "| Number of Observations Used |          1017177.0           |\n",
      "|     Critical Value (1%)     |     -3.4303564288875017      |\n",
      "|     Critical Value (5%)     |     -2.8615428414957895      |\n",
      "|     Critical Value (10%)    |      -2.566771512423857      |\n",
      "+-----------------------------+------------------------------+\n",
      " this series is stationary\n",
      "    Target variable given as = Sales\n",
      "Start of loading of data.....\n",
      "Input is data frame. Performing Time Series Analysis\n",
      "ts_column: Date sep: , target: Sales\n",
      "    Converted pandas dataframe into a Dask dataframe ...\n",
      "    Dask Dataframe loaded successfully. Shape of data set = (1017209,7)\n"
     ]
    },
    {
     "data": {
      "image/png": "[encoded data removed]",
      "text/plain": [
       "<Figure size 1440x1440 with 5 Axes>"
      ]
     },
     "metadata": {},
     "output_type": "display_data"
    },
    {
     "name": "stdout",
     "output_type": "stream",
     "text": [
      "Time Interval is given as D\n",
      "    Correct Time interval given as a valid Pandas date-range frequency...\n",
      "\n",
      "\n",
      "==================================================\n",
      "Building ML Model\n",
      "==================================================\n",
      "\n",
      "\n",
      "\u001b[1m\n",
      "Running Machine Learning Models...\u001b[0m\n",
      "    Shifting 6 predictors by lag=10 to align prior predictor with current target...\n",
      "    Warning: Dropping Categorical variables ['StateHoliday']. You can Label Encode them and try ML modeling again...\n",
      "    Warning: Dropping Categorical variables ['StateHoliday']. You can Label Encode them and try ML modeling again...\n",
      "\n",
      "Fitting ML model\n",
      "    39 variables used in training ML model = ['Store(t)', 'DayOfWeek(t)', 'ShopOpen(t)', 'Promotion(t)', 'SchoolHoliday(t)', 'Store(t-4)', 'DayOfWeek(t-4)', 'ShopOpen(t-4)', 'Promotion(t-4)', 'SchoolHoliday(t-4)', 'Sales(t-4)', 'Store(t-3)', 'DayOfWeek(t-3)', 'ShopOpen(t-3)', 'Promotion(t-3)', 'SchoolHoliday(t-3)', 'Sales(t-3)', 'Store(t-2)', 'DayOfWeek(t-2)', 'ShopOpen(t-2)', 'Promotion(t-2)', 'SchoolHoliday(t-2)', 'Sales(t-2)', 'Store(t-1)', 'DayOfWeek(t-1)', 'ShopOpen(t-1)', 'Promotion(t-1)', 'SchoolHoliday(t-1)', 'Sales(t-1)', 'Date_hour', 'Date_minute', 'Date_dayofweek', 'Date_quarter', 'Date_month', 'Date_year', 'Date_dayofyear', 'Date_dayofmonth', 'Date_weekofyear', 'Date_weekend']\n",
      "\n",
      "Running Cross Validation using XGBoost model..\n",
      "Max. iterations using expanding window cross validation = 5\n",
      "\n",
      "Fold Number: 1 --> Train Shape: 1016705 Test Shape: 100\n"
     ]
    },
    {
     "ename": "KeyboardInterrupt",
     "evalue": "",
     "output_type": "error",
     "traceback": [
      "\u001b[0;31m---------------------------------------------------------------------------\u001b[0m",
      "\u001b[0;31mKeyboardInterrupt\u001b[0m                         Traceback (most recent call last)",
      "\u001b[0;32m<ipython-input-39-e99e2419c35a>\u001b[0m in \u001b[0;36m<module>\u001b[0;34m\u001b[0m\n\u001b[0;32m----> 1\u001b[0;31m \u001b[0mmodel\u001b[0m\u001b[0;34m.\u001b[0m\u001b[0mfit\u001b[0m\u001b[0;34m(\u001b[0m\u001b[0mtrain\u001b[0m\u001b[0;34m,\u001b[0m \u001b[0mts_column\u001b[0m\u001b[0;34m,\u001b[0m\u001b[0mtarget\u001b[0m\u001b[0;34m)\u001b[0m\u001b[0;34m\u001b[0m\u001b[0;34m\u001b[0m\u001b[0m\n\u001b[0m",
      "\u001b[0;32m~/opt/miniconda3/lib/python3.8/site-packages/auto_ts/__init__.py\u001b[0m in \u001b[0;36mfit\u001b[0;34m(self, traindata, ts_column, target, sep, cv)\u001b[0m\n\u001b[1;32m    692\u001b[0m             \u001b[0;32mtry\u001b[0m\u001b[0;34m:\u001b[0m\u001b[0;34m\u001b[0m\u001b[0;34m\u001b[0m\u001b[0m\n\u001b[1;32m    693\u001b[0m                 \u001b[0;31m# best = model_build.fit(ts_df=ts_df, target_col=target, lags=lag)\u001b[0m\u001b[0;34m\u001b[0m\u001b[0;34m\u001b[0m\u001b[0;34m\u001b[0m\u001b[0m\n\u001b[0;32m--> 694\u001b[0;31m                 model, forecasts, rmse, norm_rmse = model_build.fit(\n\u001b[0m\u001b[1;32m    695\u001b[0m                     \u001b[0mts_df\u001b[0m\u001b[0;34m=\u001b[0m\u001b[0mts_df\u001b[0m\u001b[0;34m,\u001b[0m\u001b[0;34m\u001b[0m\u001b[0;34m\u001b[0m\u001b[0m\n\u001b[1;32m    696\u001b[0m                     \u001b[0mtarget_col\u001b[0m\u001b[0;34m=\u001b[0m\u001b[0mtarget\u001b[0m\u001b[0;34m,\u001b[0m\u001b[0;34m\u001b[0m\u001b[0;34m\u001b[0m\u001b[0m\n",
      "\u001b[0;32m~/opt/miniconda3/lib/python3.8/site-packages/auto_ts/models/build_ml.py\u001b[0m in \u001b[0;36mfit\u001b[0;34m(self, ts_df, target_col, ts_column, cv, lags)\u001b[0m\n\u001b[1;32m    231\u001b[0m                 \u001b[0mX_test_fold\u001b[0m\u001b[0;34m,\u001b[0m \u001b[0my_test_fold\u001b[0m \u001b[0;34m=\u001b[0m \u001b[0mtrain_fold\u001b[0m\u001b[0;34m[\u001b[0m\u001b[0mnums\u001b[0m\u001b[0;34m:\u001b[0m\u001b[0;34m]\u001b[0m\u001b[0;34m[\u001b[0m\u001b[0mself\u001b[0m\u001b[0;34m.\u001b[0m\u001b[0mtransformed_preds\u001b[0m\u001b[0;34m]\u001b[0m\u001b[0;34m,\u001b[0m \u001b[0mtrain_fold\u001b[0m\u001b[0;34m[\u001b[0m\u001b[0mnums\u001b[0m\u001b[0;34m:\u001b[0m\u001b[0;34m]\u001b[0m\u001b[0;34m[\u001b[0m\u001b[0mself\u001b[0m\u001b[0;34m.\u001b[0m\u001b[0mtransformed_target\u001b[0m\u001b[0;34m]\u001b[0m\u001b[0;34m\u001b[0m\u001b[0;34m\u001b[0m\u001b[0m\n\u001b[1;32m    232\u001b[0m                 \u001b[0;32mif\u001b[0m \u001b[0mmodel_name\u001b[0m \u001b[0;34m==\u001b[0m \u001b[0;34m'XGBoost'\u001b[0m\u001b[0;34m:\u001b[0m\u001b[0;34m\u001b[0m\u001b[0;34m\u001b[0m\u001b[0m\n\u001b[0;32m--> 233\u001b[0;31m                     model.fit(X_train_fold, y_train_fold,\n\u001b[0m\u001b[1;32m    234\u001b[0m                         \u001b[0meval_set\u001b[0m\u001b[0;34m=\u001b[0m\u001b[0;34m[\u001b[0m\u001b[0;34m(\u001b[0m\u001b[0mX_train_fold\u001b[0m\u001b[0;34m,\u001b[0m \u001b[0my_train_fold\u001b[0m\u001b[0;34m)\u001b[0m\u001b[0;34m,\u001b[0m \u001b[0;34m(\u001b[0m\u001b[0mX_test_fold\u001b[0m\u001b[0;34m,\u001b[0m \u001b[0my_test_fold\u001b[0m\u001b[0;34m)\u001b[0m\u001b[0;34m]\u001b[0m\u001b[0;34m,\u001b[0m\u001b[0;34m\u001b[0m\u001b[0;34m\u001b[0m\u001b[0m\n\u001b[1;32m    235\u001b[0m                         \u001b[0mearly_stopping_rounds\u001b[0m\u001b[0;34m=\u001b[0m\u001b[0;36m50\u001b[0m\u001b[0;34m,\u001b[0m\u001b[0mverbose\u001b[0m\u001b[0;34m=\u001b[0m\u001b[0;32mFalse\u001b[0m\u001b[0;34m,\u001b[0m\u001b[0;34m\u001b[0m\u001b[0;34m\u001b[0m\u001b[0m\n",
      "\u001b[0;32m~/opt/miniconda3/lib/python3.8/site-packages/xgboost/core.py\u001b[0m in \u001b[0;36minner_f\u001b[0;34m(*args, **kwargs)\u001b[0m\n\u001b[1;32m    420\u001b[0m         \u001b[0;32mfor\u001b[0m \u001b[0mk\u001b[0m\u001b[0;34m,\u001b[0m \u001b[0marg\u001b[0m \u001b[0;32min\u001b[0m \u001b[0mzip\u001b[0m\u001b[0;34m(\u001b[0m\u001b[0msig\u001b[0m\u001b[0;34m.\u001b[0m\u001b[0mparameters\u001b[0m\u001b[0;34m,\u001b[0m \u001b[0margs\u001b[0m\u001b[0;34m)\u001b[0m\u001b[0;34m:\u001b[0m\u001b[0;34m\u001b[0m\u001b[0;34m\u001b[0m\u001b[0m\n\u001b[1;32m    421\u001b[0m             \u001b[0mkwargs\u001b[0m\u001b[0;34m[\u001b[0m\u001b[0mk\u001b[0m\u001b[0;34m]\u001b[0m \u001b[0;34m=\u001b[0m \u001b[0marg\u001b[0m\u001b[0;34m\u001b[0m\u001b[0;34m\u001b[0m\u001b[0m\n\u001b[0;32m--> 422\u001b[0;31m         \u001b[0;32mreturn\u001b[0m \u001b[0mf\u001b[0m\u001b[0;34m(\u001b[0m\u001b[0;34m**\u001b[0m\u001b[0mkwargs\u001b[0m\u001b[0;34m)\u001b[0m\u001b[0;34m\u001b[0m\u001b[0;34m\u001b[0m\u001b[0m\n\u001b[0m\u001b[1;32m    423\u001b[0m \u001b[0;34m\u001b[0m\u001b[0m\n\u001b[1;32m    424\u001b[0m     \u001b[0;32mreturn\u001b[0m \u001b[0minner_f\u001b[0m\u001b[0;34m\u001b[0m\u001b[0;34m\u001b[0m\u001b[0m\n",
      "\u001b[0;32m~/opt/miniconda3/lib/python3.8/site-packages/xgboost/sklearn.py\u001b[0m in \u001b[0;36mfit\u001b[0;34m(self, X, y, sample_weight, base_margin, eval_set, eval_metric, early_stopping_rounds, verbose, xgb_model, sample_weight_eval_set, feature_weights, callbacks)\u001b[0m\n\u001b[1;32m    595\u001b[0m                 \u001b[0mparams\u001b[0m\u001b[0;34m.\u001b[0m\u001b[0mupdate\u001b[0m\u001b[0;34m(\u001b[0m\u001b[0;34m{\u001b[0m\u001b[0;34m'eval_metric'\u001b[0m\u001b[0;34m:\u001b[0m \u001b[0meval_metric\u001b[0m\u001b[0;34m}\u001b[0m\u001b[0;34m)\u001b[0m\u001b[0;34m\u001b[0m\u001b[0;34m\u001b[0m\u001b[0m\n\u001b[1;32m    596\u001b[0m \u001b[0;34m\u001b[0m\u001b[0m\n\u001b[0;32m--> 597\u001b[0;31m         self._Booster = train(params, train_dmatrix,\n\u001b[0m\u001b[1;32m    598\u001b[0m                               \u001b[0mself\u001b[0m\u001b[0;34m.\u001b[0m\u001b[0mget_num_boosting_rounds\u001b[0m\u001b[0;34m(\u001b[0m\u001b[0;34m)\u001b[0m\u001b[0;34m,\u001b[0m \u001b[0mevals\u001b[0m\u001b[0;34m=\u001b[0m\u001b[0mevals\u001b[0m\u001b[0;34m,\u001b[0m\u001b[0;34m\u001b[0m\u001b[0;34m\u001b[0m\u001b[0m\n\u001b[1;32m    599\u001b[0m                               \u001b[0mearly_stopping_rounds\u001b[0m\u001b[0;34m=\u001b[0m\u001b[0mearly_stopping_rounds\u001b[0m\u001b[0;34m,\u001b[0m\u001b[0;34m\u001b[0m\u001b[0;34m\u001b[0m\u001b[0m\n",
      "\u001b[0;32m~/opt/miniconda3/lib/python3.8/site-packages/xgboost/training.py\u001b[0m in \u001b[0;36mtrain\u001b[0;34m(params, dtrain, num_boost_round, evals, obj, feval, maximize, early_stopping_rounds, evals_result, verbose_eval, xgb_model, callbacks)\u001b[0m\n\u001b[1;32m    225\u001b[0m     \u001b[0mBooster\u001b[0m \u001b[0;34m:\u001b[0m \u001b[0ma\u001b[0m \u001b[0mtrained\u001b[0m \u001b[0mbooster\u001b[0m \u001b[0mmodel\u001b[0m\u001b[0;34m\u001b[0m\u001b[0;34m\u001b[0m\u001b[0m\n\u001b[1;32m    226\u001b[0m     \"\"\"\n\u001b[0;32m--> 227\u001b[0;31m     bst = _train_internal(params, dtrain,\n\u001b[0m\u001b[1;32m    228\u001b[0m                           \u001b[0mnum_boost_round\u001b[0m\u001b[0;34m=\u001b[0m\u001b[0mnum_boost_round\u001b[0m\u001b[0;34m,\u001b[0m\u001b[0;34m\u001b[0m\u001b[0;34m\u001b[0m\u001b[0m\n\u001b[1;32m    229\u001b[0m                           \u001b[0mevals\u001b[0m\u001b[0;34m=\u001b[0m\u001b[0mevals\u001b[0m\u001b[0;34m,\u001b[0m\u001b[0;34m\u001b[0m\u001b[0;34m\u001b[0m\u001b[0m\n",
      "\u001b[0;32m~/opt/miniconda3/lib/python3.8/site-packages/xgboost/training.py\u001b[0m in \u001b[0;36m_train_internal\u001b[0;34m(params, dtrain, num_boost_round, evals, obj, feval, xgb_model, callbacks, evals_result, maximize, verbose_eval, early_stopping_rounds)\u001b[0m\n\u001b[1;32m    100\u001b[0m         \u001b[0;31m# Skip the first update if it is a recovery step.\u001b[0m\u001b[0;34m\u001b[0m\u001b[0;34m\u001b[0m\u001b[0;34m\u001b[0m\u001b[0m\n\u001b[1;32m    101\u001b[0m         \u001b[0;32mif\u001b[0m \u001b[0mversion\u001b[0m \u001b[0;34m%\u001b[0m \u001b[0;36m2\u001b[0m \u001b[0;34m==\u001b[0m \u001b[0;36m0\u001b[0m\u001b[0;34m:\u001b[0m\u001b[0;34m\u001b[0m\u001b[0;34m\u001b[0m\u001b[0m\n\u001b[0;32m--> 102\u001b[0;31m             \u001b[0mbst\u001b[0m\u001b[0;34m.\u001b[0m\u001b[0mupdate\u001b[0m\u001b[0;34m(\u001b[0m\u001b[0mdtrain\u001b[0m\u001b[0;34m,\u001b[0m \u001b[0mi\u001b[0m\u001b[0;34m,\u001b[0m \u001b[0mobj\u001b[0m\u001b[0;34m)\u001b[0m\u001b[0;34m\u001b[0m\u001b[0;34m\u001b[0m\u001b[0m\n\u001b[0m\u001b[1;32m    103\u001b[0m             \u001b[0mbst\u001b[0m\u001b[0;34m.\u001b[0m\u001b[0msave_rabit_checkpoint\u001b[0m\u001b[0;34m(\u001b[0m\u001b[0;34m)\u001b[0m\u001b[0;34m\u001b[0m\u001b[0;34m\u001b[0m\u001b[0m\n\u001b[1;32m    104\u001b[0m             \u001b[0mversion\u001b[0m \u001b[0;34m+=\u001b[0m \u001b[0;36m1\u001b[0m\u001b[0;34m\u001b[0m\u001b[0;34m\u001b[0m\u001b[0m\n",
      "\u001b[0;32m~/opt/miniconda3/lib/python3.8/site-packages/xgboost/core.py\u001b[0m in \u001b[0;36mupdate\u001b[0;34m(self, dtrain, iteration, fobj)\u001b[0m\n\u001b[1;32m   1278\u001b[0m \u001b[0;34m\u001b[0m\u001b[0m\n\u001b[1;32m   1279\u001b[0m         \u001b[0;32mif\u001b[0m \u001b[0mfobj\u001b[0m \u001b[0;32mis\u001b[0m \u001b[0;32mNone\u001b[0m\u001b[0;34m:\u001b[0m\u001b[0;34m\u001b[0m\u001b[0;34m\u001b[0m\u001b[0m\n\u001b[0;32m-> 1280\u001b[0;31m             _check_call(_LIB.XGBoosterUpdateOneIter(self.handle,\n\u001b[0m\u001b[1;32m   1281\u001b[0m                                                     \u001b[0mctypes\u001b[0m\u001b[0;34m.\u001b[0m\u001b[0mc_int\u001b[0m\u001b[0;34m(\u001b[0m\u001b[0miteration\u001b[0m\u001b[0;34m)\u001b[0m\u001b[0;34m,\u001b[0m\u001b[0;34m\u001b[0m\u001b[0;34m\u001b[0m\u001b[0m\n\u001b[1;32m   1282\u001b[0m                                                     dtrain.handle))\n",
      "\u001b[0;31mKeyboardInterrupt\u001b[0m: "
     ]
    }
   ],
   "source": [
    "model.fit(train, ts_column,target)"
   ]
  },
  {
   "cell_type": "code",
   "execution_count": null,
   "id": "bound-shell",
   "metadata": {},
   "outputs": [],
   "source": [
    "predictions = model.predict(\n",
    "            testdata=testx,\n",
    "            model='ML',\n",
    "        )"
   ]
  },
  {
   "cell_type": "code",
   "execution_count": null,
   "id": "capital-quarter",
   "metadata": {},
   "outputs": [],
   "source": [
    "pred_x = predictions['yhat'].values\n",
    "pred_x"
   ]
  },
  {
   "cell_type": "code",
   "execution_count": null,
   "id": "competent-stadium",
   "metadata": {},
   "outputs": [],
   "source": [
    "out_df = pd.DataFrame({'id': test['id'].astype(np.int32), 'sales': pred_x})\n",
    "out_df.to_csv('submission.csv', index=False)"
   ]
  }
 ],
 "metadata": {
  "kernelspec": {
   "display_name": "Python 3",
   "language": "python",
   "name": "python3"
  },
  "language_info": {
   "codemirror_mode": {
    "name": "ipython",
    "version": 3
   },
   "file_extension": ".py",
   "mimetype": "text/x-python",
   "name": "python",
   "nbconvert_exporter": "python",
   "pygments_lexer": "ipython3",
   "version": "3.8.8"
  }
 },
 "nbformat": 4,
 "nbformat_minor": 5
}
