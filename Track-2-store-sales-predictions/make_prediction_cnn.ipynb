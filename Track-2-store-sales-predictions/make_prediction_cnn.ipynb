{
  "nbformat": 4,
  "nbformat_minor": 0,
  "metadata": {
    "kernelspec": {
      "display_name": "Python 3",
      "language": "python",
      "name": "python3"
    },
    "language_info": {
      "codemirror_mode": {
        "name": "ipython",
        "version": 3
      },
      "file_extension": ".py",
      "mimetype": "text/x-python",
      "name": "python",
      "nbconvert_exporter": "python",
      "pygments_lexer": "ipython3",
      "version": "3.8.5"
    },
    "colab": {
      "name": "Lithuanian Challenge.ipynb",
      "provenance": [],
      "collapsed_sections": []
    },
    "accelerator": "GPU"
  },
  "cells": [
    {
      "cell_type": "markdown",
      "metadata": {
        "id": "FYSnbkHAqas1"
      },
      "source": [
        "****Preprocessing"
      ]
    },
    {
      "cell_type": "code",
      "metadata": {
        "id": "75aqANx3qatN"
      },
      "source": [
        "import torch\n",
        "import torchvision\n",
        "from torch import nn\n",
        "from torch import optim\n",
        "from torch.utils.data import DataLoader\n",
        "import pandas as pd\n",
        "from sklearn.linear_model import LinearRegression\n",
        "import numpy as np\n"
      ],
      "execution_count": 1,
      "outputs": []
    },
    {
      "cell_type": "code",
      "metadata": {
        "colab": {
          "base_uri": "https://localhost:8080/"
        },
        "id": "3J0ZMM_vrren",
        "outputId": "6e5a3597-9fb8-4caa-f4e9-896bf6b41c21"
      },
      "source": [
        "from google.colab import drive\n",
        "drive.mount(\"/content/drive\")"
      ],
      "execution_count": null,
      "outputs": [
        {
          "output_type": "stream",
          "text": [
            "Mounted at /content/drive\n"
          ],
          "name": "stdout"
        }
      ]
    },
    {
      "cell_type": "code",
      "metadata": {
        "colab": {
          "base_uri": "https://localhost:8080/"
        },
        "id": "kjAfLUmqqatQ",
        "outputId": "99eb221c-ef51-4032-f235-fd4d919cafa5"
      },
      "source": [
        "#*** PREPROCESSING ***\n",
        "\n",
        "def preprocess(train_path, test_path, test=False):\n",
        "  df = pd.read_csv(train_path)[:55000]\n",
        "  df_test = pd.read_csv(test_path)\n",
        "  \n",
        "  df_test['Sales'] = 0\n",
        "  df = pd.concat([df, df_test])\n",
        "\n",
        "  df['month'] = pd.DatetimeIndex(df['Date']).month\n",
        "  df['DayInMonth'] = pd.DatetimeIndex(df['Date']).day\n",
        "  df = pd.get_dummies(data=df, columns=['Store','AssortmentType', 'StoreType', 'StateHoliday', \"month\", \"DayOfWeek\"])\n",
        "  del df[\"Date\"]\n",
        "\n",
        "  df = df.dropna(subset=['Sales'])\n",
        "  Y = df[\"Sales\"].values\n",
        "  del df[\"Sales\"]\n",
        "\n",
        "  df = df.values\n",
        "    \n",
        "  return df, Y\n",
        "\n",
        "X_train, Y_train = preprocess(\"/content/drive/MyDrive/Lithuanian_Challenge/train_data.csv\", \"/content/drive/MyDrive/Lithuanian_Challenge/test_data.csv\")\n",
        "\n",
        "X_test_submission, X_train, Y_train = X_train[-41088:], X_train[:-41088], Y_train[:-41088]\n",
        "\n",
        "X_test, Y_test = X_train[-50000:], Y_train[-50000:] \n",
        "X_train, Y_train = X_train[:-50000], Y_train[:-50000]  \n",
        "\n",
        "print('Submission Set Shape: ',X_test_submission.shape)\n",
        "print('Train Set Shape: ',X_train.shape)\n",
        "print('Test Set Shape: ',X_test.shape)\n",
        "\n",
        "\n"
      ],
      "execution_count": 6,
      "outputs": [
        {
          "output_type": "stream",
          "text": [
            "/usr/local/lib/python3.7/dist-packages/IPython/core/interactiveshell.py:2822: DtypeWarning: Columns (6) have mixed types.Specify dtype option on import or set low_memory=False.\n",
            "  if self.run_code(code, result):\n"
          ],
          "name": "stderr"
        },
        {
          "output_type": "stream",
          "text": [
            "Submission Set Shape:  (41088, 1140)\n",
            "Train Set Shape:  (5000, 1140)\n",
            "Test Set Shape:  (50000, 1140)\n"
          ],
          "name": "stdout"
        }
      ]
    },
    {
      "cell_type": "markdown",
      "metadata": {
        "id": "9HNxJuynqate"
      },
      "source": [
        "****CNN"
      ]
    },
    {
      "cell_type": "code",
      "metadata": {
        "colab": {
          "base_uri": "https://localhost:8080/"
        },
        "id": "7GrRsepZqatf",
        "outputId": "4775758e-c70f-47b3-be20-ac0a670be46a"
      },
      "source": [
        "from keras import optimizers\n",
        "from keras.utils import plot_model\n",
        "from keras.models import Sequential, Model\n",
        "from keras.layers.convolutional import Conv1D, MaxPooling1D\n",
        "from keras.layers import Dense, LSTM, RepeatVector, TimeDistributed, Flatten, Dropout\n",
        "\n",
        "\n",
        "from keras import backend as K\n",
        "def rmse(y_true, y_pred):\n",
        "        return K.sqrt(K.mean(K.square(float(y_pred) - float(y_true)))) \n",
        "\n",
        "X_train = X_train.reshape((X_train.shape[0], X_train.shape[1], 1))\n",
        "X_test = X_test.reshape((X_test.shape[0], X_test.shape[1], 1))\n",
        "\n",
        "epochs = 3\n",
        "batch = 256\n",
        "lr = 0.001\n",
        "adam = optimizers.Adam(lr)\n",
        "\n",
        "model_cnn = Sequential()\n",
        "model_cnn.add(Conv1D(filters=256, kernel_size=2, activation='relu', input_shape=(X_train.shape[1], X_train.shape[2])))\n",
        "model_cnn.add(MaxPooling1D(pool_size=2))\n",
        "model_cnn.add(Flatten())\n",
        "model_cnn.add(Dropout(0.1))\n",
        "model_cnn.add(Dense(1024, activation='relu'))\n",
        "model_cnn.add(Dense(1))\n",
        "model_cnn.compile(loss=rmse, optimizer=adam)\n",
        "model_cnn.summary()\n",
        "\n",
        "\n",
        "cnn_history = model_cnn.fit(X_train, Y_train, epochs=epochs, validation_data=(X_test, Y_test), verbose=1) "
      ],
      "execution_count": 8,
      "outputs": [
        {
          "output_type": "stream",
          "text": [
            "Model: \"sequential_1\"\n",
            "_________________________________________________________________\n",
            "Layer (type)                 Output Shape              Param #   \n",
            "=================================================================\n",
            "conv1d (Conv1D)              (None, 1139, 256)         768       \n",
            "_________________________________________________________________\n",
            "max_pooling1d (MaxPooling1D) (None, 569, 256)          0         \n",
            "_________________________________________________________________\n",
            "flatten (Flatten)            (None, 145664)            0         \n",
            "_________________________________________________________________\n",
            "dropout (Dropout)            (None, 145664)            0         \n",
            "_________________________________________________________________\n",
            "dense (Dense)                (None, 1024)              149160960 \n",
            "_________________________________________________________________\n",
            "dense_1 (Dense)              (None, 1)                 1025      \n",
            "=================================================================\n",
            "Total params: 149,162,753\n",
            "Trainable params: 149,162,753\n",
            "Non-trainable params: 0\n",
            "_________________________________________________________________\n",
            "Epoch 1/3\n",
            "157/157 [==============================] - 47s 95ms/step - loss: 8800.4407 - val_loss: 6414.1382\n",
            "Epoch 2/3\n",
            "157/157 [==============================] - 14s 93ms/step - loss: 8815.0128 - val_loss: 6355.7925\n",
            "Epoch 3/3\n",
            "157/157 [==============================] - 14s 92ms/step - loss: 8717.0594 - val_loss: 6258.2017\n"
          ],
          "name": "stdout"
        }
      ]
    },
    {
      "cell_type": "code",
      "metadata": {
        "id": "3Nu3hmQNqath",
        "colab": {
          "base_uri": "https://localhost:8080/"
        },
        "outputId": "fc1d993f-ead6-4298-91d0-5b25431ab347"
      },
      "source": [
        "model_cnn.predict(X_test_submission.reshape((X_test_submission.shape[0], X_test_submission.shape[1], 1)))"
      ],
      "execution_count": 12,
      "outputs": [
        {
          "output_type": "execute_result",
          "data": {
            "text/plain": [
              "array([[233.794],\n",
              "       [233.794],\n",
              "       [233.794],\n",
              "       ...,\n",
              "       [233.794],\n",
              "       [233.794],\n",
              "       [233.794]], dtype=float32)"
            ]
          },
          "metadata": {
            "tags": []
          },
          "execution_count": 12
        }
      ]
    },
    {
      "cell_type": "code",
      "metadata": {
        "id": "IC7IWcICqati"
      },
      "source": [
        ""
      ],
      "execution_count": null,
      "outputs": []
    }
  ]
}