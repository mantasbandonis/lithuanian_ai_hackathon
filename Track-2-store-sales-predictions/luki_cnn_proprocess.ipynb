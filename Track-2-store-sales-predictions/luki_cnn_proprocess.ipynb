{
  "nbformat": 4,
  "nbformat_minor": 0,
  "metadata": {
    "kernelspec": {
      "display_name": "Python 3",
      "language": "python",
      "name": "python3"
    },
    "language_info": {
      "codemirror_mode": {
        "name": "ipython",
        "version": 3
      },
      "file_extension": ".py",
      "mimetype": "text/x-python",
      "name": "python",
      "nbconvert_exporter": "python",
      "pygments_lexer": "ipython3",
      "version": "3.8.5"
    },
    "colab": {
      "name": "Lithuanian Challenge.ipynb",
      "provenance": [],
      "collapsed_sections": []
    },
    "accelerator": "GPU"
  },
  "cells": [
    {
      "cell_type": "markdown",
      "metadata": {
        "id": "FYSnbkHAqas1"
      },
      "source": [
        "****Preprocessing"
      ]
    },
    {
      "cell_type": "code",
      "metadata": {
        "id": "75aqANx3qatN"
      },
      "source": [
        "import torch\n",
        "import torchvision\n",
        "from torch import nn\n",
        "from torch import optim\n",
        "from torch.utils.data import DataLoader\n",
        "import pandas as pd\n",
        "from sklearn.linear_model import LinearRegression\n"
      ],
      "execution_count": 1,
      "outputs": []
    },
    {
      "cell_type": "code",
      "metadata": {
        "colab": {
          "base_uri": "https://localhost:8080/"
        },
        "id": "3J0ZMM_vrren",
        "outputId": "a9c909c6-fa35-43bb-8c5a-ccbc172a6799"
      },
      "source": [
        "from google.colab import drive\n",
        "drive.mount(\"/content/drive\")"
      ],
      "execution_count": 2,
      "outputs": [
        {
          "output_type": "stream",
          "text": [
            "Drive already mounted at /content/drive; to attempt to forcibly remount, call drive.mount(\"/content/drive\", force_remount=True).\n"
          ],
          "name": "stdout"
        }
      ]
    },
    {
      "cell_type": "code",
      "metadata": {
        "colab": {
          "base_uri": "https://localhost:8080/"
        },
        "id": "kjAfLUmqqatQ",
        "outputId": "9a0345c1-8d8e-475e-b1f9-d8c94a06ff2e"
      },
      "source": [
        "#*** PREPROCESSING ***\n",
        "\n",
        "\n",
        "idx_r = 300000  #limit to 300.000 to avoid RAM crash\n",
        "df_train = pd.read_csv(\"/content/drive/MyDrive/Lithuanian_Challenge/train_data.csv\")[:idx_r]\n",
        "#df_test = pd.read_csv(\"/content/drive/MyDrive/Lithuanian_Challenge/test_data.csv\")\n",
        "\n",
        "def preprocess(df, test=False):\n",
        "  df['month'] = pd.DatetimeIndex(df['Date']).month\n",
        "  df['DayInMonth'] = pd.DatetimeIndex(df['Date']).day\n",
        "  #df['PartOfMonth1'] = (df['DayInMonth']<=10).astype(int)\n",
        "  #df['PartOfMonth2'] = ((df['DayInMonth']>10) & (df['DayInMonth']<=20)).astype(int)\n",
        "  #df['PartOfMonth3'] = ((df['DayInMonth']>20) & (df['DayInMonth']<=31)).astype(int)\n",
        "  #del df[\"DayInMonth\"]\n",
        "  df = df.dropna(subset=['Sales']) # drop all rows where sales = nan\n",
        "  df = pd.get_dummies(data=df, columns=['Store','AssortmentType', 'StoreType', 'StateHoliday', \"month\", \"DayOfWeek\"])\n",
        "  del df[\"Date\"]\n",
        "  #del df[\"Store\"]\n",
        "\n",
        "  Y = \"\"\n",
        "  if test == False:\n",
        "    Y = df[\"Sales\"].values\n",
        "    del df[\"Sales\"]\n",
        "  X = df.values\n",
        "\n",
        "  return X, Y, df\n",
        "\n",
        "X, Y, df_train = preprocess(df_train)\n",
        "\n",
        "X_test, Y_test = X[-30000:], Y[-30000:] #30.000 test samples\n",
        "X, Y = X[:-30000], Y[:-30000]  \n",
        "\n"
      ],
      "execution_count": 2,
      "outputs": [
        {
          "output_type": "stream",
          "text": [
            "/usr/local/lib/python3.7/dist-packages/IPython/core/interactiveshell.py:2718: DtypeWarning: Columns (6) have mixed types.Specify dtype option on import or set low_memory=False.\n",
            "  interactivity=interactivity, compiler=compiler, result=result)\n"
          ],
          "name": "stderr"
        }
      ]
    },
    {
      "cell_type": "markdown",
      "metadata": {
        "id": "8AvOzDNsqatW"
      },
      "source": [
        "***Regression Analysis"
      ]
    },
    {
      "cell_type": "code",
      "metadata": {
        "id": "iLNpz2WuqatY",
        "colab": {
          "base_uri": "https://localhost:8080/"
        },
        "outputId": "316c4f73-2b96-47fb-c5db-1c2dc1678d5a"
      },
      "source": [
        "import statsmodels.api as sm\n",
        "\n",
        "x_ = sm.add_constant(df_train)\n",
        "results = sm.OLS(Y,x_).fit()\n",
        "results.summary()  "
      ],
      "execution_count": null,
      "outputs": [
        {
          "output_type": "stream",
          "text": [
            "/usr/local/lib/python3.7/dist-packages/statsmodels/tools/_testing.py:19: FutureWarning: pandas.util.testing is deprecated. Use the functions in the public API at pandas.testing instead.\n",
            "  import pandas.util.testing as tm\n"
          ],
          "name": "stderr"
        }
      ]
    },
    {
      "cell_type": "markdown",
      "metadata": {
        "id": "Bht2oUo6qata"
      },
      "source": [
        "*** Support Vector Machine"
      ]
    },
    {
      "cell_type": "code",
      "metadata": {
        "id": "mJZasdz0qatb"
      },
      "source": [
        "from sklearn import svm\n",
        "from sklearn.metrics import mean_squared_error\n",
        "\n",
        "idx = len(df)\n",
        "\n",
        "model = svm.SVC()\n",
        "model.fit(df[:idx], y_[:idx])"
      ],
      "execution_count": null,
      "outputs": []
    },
    {
      "cell_type": "code",
      "metadata": {
        "id": "NwoPQBPuqatc"
      },
      "source": [
        "y_pred = model.predict(df[1200:1210])\n",
        "err = mean_squared_error(y_[1200:1210], y_pred, multioutput='raw_values', squared=False) # returns set of errros"
      ],
      "execution_count": null,
      "outputs": []
    },
    {
      "cell_type": "code",
      "metadata": {
        "id": "OTZbAVnTqatd",
        "outputId": "1a2c100d-9757-457c-ac5e-bc26b1b8bf25"
      },
      "source": [
        "print(\"Absolute Error: \", err)"
      ],
      "execution_count": null,
      "outputs": [
        {
          "output_type": "stream",
          "text": [
            "Absolute Error:  [1226.56834298]\n"
          ],
          "name": "stdout"
        }
      ]
    },
    {
      "cell_type": "markdown",
      "metadata": {
        "id": "9HNxJuynqate"
      },
      "source": [
        "****CNN"
      ]
    },
    {
      "cell_type": "code",
      "metadata": {
        "colab": {
          "base_uri": "https://localhost:8080/"
        },
        "id": "7GrRsepZqatf",
        "outputId": "869cd848-afcd-46ff-e529-d9e6ffd453e8"
      },
      "source": [
        "from keras import optimizers\n",
        "from keras.utils import plot_model\n",
        "from keras.models import Sequential, Model\n",
        "from keras.layers.convolutional import Conv1D, MaxPooling1D\n",
        "from keras.layers import Dense, LSTM, RepeatVector, TimeDistributed, Flatten, Dropout\n",
        "\n",
        "\n",
        "from keras import backend as K\n",
        "def rmse(y_true, y_pred):\n",
        "        return K.sqrt(K.mean(K.square(float(y_pred) - float(y_true)))) \n",
        "\n",
        "X = X.reshape((X.shape[0], X.shape[1], 1))\n",
        "X_test = X_test.reshape((X_test.shape[0], X_test.shape[1], 1))\n",
        "\n",
        "epochs = 10\n",
        "batch = 256\n",
        "lr = 0.001\n",
        "adam = optimizers.Adam(lr)\n",
        "\n",
        "model_cnn = Sequential()\n",
        "model_cnn.add(Conv1D(filters=256, kernel_size=2, activation='relu', input_shape=(X.shape[1], X.shape[2])))\n",
        "model_cnn.add(MaxPooling1D(pool_size=2))\n",
        "model_cnn.add(Flatten())\n",
        "model_cnn.add(Dropout(0.1))\n",
        "model_cnn.add(Dense(512, activation='relu'))\n",
        "model_cnn.add(Dense(1))\n",
        "model_cnn.compile(loss=rmse, optimizer=adam)\n",
        "model_cnn.summary()\n",
        "\n",
        "\n",
        "cnn_history = model_cnn.fit(X, Y, epochs=epochs, validation_data=(X_test, Y_test), verbose=1) #validation_data=(X_test, Y_test)"
      ],
      "execution_count": null,
      "outputs": [
        {
          "output_type": "stream",
          "text": [
            "Model: \"sequential\"\n",
            "_________________________________________________________________\n",
            "Layer (type)                 Output Shape              Param #   \n",
            "=================================================================\n",
            "conv1d (Conv1D)              (None, 1146, 256)         768       \n",
            "_________________________________________________________________\n",
            "max_pooling1d (MaxPooling1D) (None, 573, 256)          0         \n",
            "_________________________________________________________________\n",
            "flatten (Flatten)            (None, 146688)            0         \n",
            "_________________________________________________________________\n",
            "dropout (Dropout)            (None, 146688)            0         \n",
            "_________________________________________________________________\n",
            "dense (Dense)                (None, 512)               75104768  \n",
            "_________________________________________________________________\n",
            "dense_1 (Dense)              (None, 1)                 513       \n",
            "=================================================================\n",
            "Total params: 75,106,049\n",
            "Trainable params: 75,106,049\n",
            "Non-trainable params: 0\n",
            "_________________________________________________________________\n",
            "Epoch 1/10\n",
            "8438/8438 [==============================] - 352s 38ms/step - loss: 2770.4133 - val_loss: 1510.4335\n",
            "Epoch 2/10\n",
            "8438/8438 [==============================] - 321s 38ms/step - loss: 1641.0112 - val_loss: 1184.9833\n",
            "Epoch 3/10\n",
            "8438/8438 [==============================] - 321s 38ms/step - loss: 1243.0493 - val_loss: 1205.8676\n",
            "Epoch 4/10\n",
            "8438/8438 [==============================] - 322s 38ms/step - loss: 1089.7840 - val_loss: 1167.3409\n",
            "Epoch 5/10\n",
            " 911/8438 [==>...........................] - ETA: 4:39 - loss: 1017.3444"
          ],
          "name": "stdout"
        }
      ]
    },
    {
      "cell_type": "code",
      "metadata": {
        "id": "3Nu3hmQNqath"
      },
      "source": [
        ""
      ],
      "execution_count": null,
      "outputs": []
    },
    {
      "cell_type": "code",
      "metadata": {
        "id": "IC7IWcICqati"
      },
      "source": [
        ""
      ],
      "execution_count": null,
      "outputs": []
    }
  ]
}