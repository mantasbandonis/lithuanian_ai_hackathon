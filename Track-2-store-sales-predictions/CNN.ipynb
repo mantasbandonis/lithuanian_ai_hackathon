{
  "nbformat": 4,
  "nbformat_minor": 0,
  "metadata": {
    "kernelspec": {
      "display_name": "Python 3",
      "language": "python",
      "name": "python3"
    },
    "language_info": {
      "codemirror_mode": {
        "name": "ipython",
        "version": 3
      },
      "file_extension": ".py",
      "mimetype": "text/x-python",
      "name": "python",
      "nbconvert_exporter": "python",
      "pygments_lexer": "ipython3",
      "version": "3.8.5"
    },
    "colab": {
      "name": "Lithuanian Challenge.ipynb",
      "provenance": [],
      "collapsed_sections": []
    },
    "accelerator": "GPU"
  },
  "cells": [
    {
      "cell_type": "markdown",
      "metadata": {
        "id": "FYSnbkHAqas1"
      },
      "source": [
        "****Preprocessing"
      ]
    },
    {
      "cell_type": "code",
      "metadata": {
        "id": "75aqANx3qatN"
      },
      "source": [
        "import torch\n",
        "import torchvision\n",
        "from torch import nn\n",
        "from torch import optim\n",
        "from torch.utils.data import DataLoader\n",
        "import pandas as pd\n",
        "from sklearn.linear_model import LinearRegression\n",
        "import numpy as np\n"
      ],
      "execution_count": null,
      "outputs": []
    },
    {
      "cell_type": "code",
      "metadata": {
        "colab": {
          "base_uri": "https://localhost:8080/"
        },
        "id": "kjAfLUmqqatQ",
        "outputId": "247dd833-5b46-497c-c7b8-531dfe542c6b"
      },
      "source": [
        "#*** PREPROCESSING ***\n",
        "\n",
        "def preprocess(train_path, test_path, test=False):\n",
        "  df = pd.read_csv(train_path)[:restrict_idx]\n",
        "  df = df.dropna(subset=['Sales'])\n",
        "\n",
        "  df_test = pd.read_csv(test_path)\n",
        "  del df_test['Id']\n",
        "  l_test = len(df_test)\n",
        "  \n",
        "  df_test['Sales'] = 0\n",
        "  df = pd.concat([df, df_test])\n",
        "\n",
        "  print(df.columns)\n",
        "\n",
        "  df['month'] = pd.DatetimeIndex(df['Date']).month\n",
        "  df['DayInMonth'] = pd.DatetimeIndex(df['Date']).day\n",
        "  df = pd.get_dummies(data=df, columns=['Store','AssortmentType', 'StoreType', 'StateHoliday', \"month\", \"DayOfWeek\"])\n",
        "  del df[\"Date\"]\n",
        "  Y = df[\"Sales\"].values\n",
        "  del df[\"Sales\"]\n",
        "\n",
        "  df = df.values\n",
        "    \n",
        "  return df, Y, l_test\n",
        "\n",
        "X_train, Y_train, l_test = preprocess(\"/content/drive/MyDrive/Lithuanian_Challenge/train_data.csv\", \"/content/drive/MyDrive/Lithuanian_Challenge/test_data.csv\")\n",
        "\n",
        "X_test_submission, X_train, Y_train = X_train[-l_test:], X_train[:-l_test], Y_train[:-l_test]\n",
        "\n",
        "X_val, Y_val = X_train[-50000:], Y_train[-50000:] \n",
        "X_train, Y_train = X_train[:-50000], Y_train[:-50000]  \n",
        "\n",
        "\n",
        "print('Submission Set Shape: ',X_test_submission.shape)\n",
        "print('Train Set Shape: ',X_train.shape)\n",
        "print('Y Train Shape: ', Y_train.shape)\n",
        "print('Validation Set Shape: ', X_val.shape)\n",
        "\n",
        "\n"
      ],
      "execution_count": null,
      "outputs": [
        {
          "output_type": "stream",
          "text": [
            "/usr/local/lib/python3.7/dist-packages/IPython/core/interactiveshell.py:2822: DtypeWarning: Columns (6) have mixed types.Specify dtype option on import or set low_memory=False.\n",
            "  if self.run_code(code, result):\n"
          ],
          "name": "stderr"
        },
        {
          "output_type": "stream",
          "text": [
            "Index(['Store', 'DayOfWeek', 'Date', 'Sales', 'ShopOpen', 'Promotion',\n",
            "       'StateHoliday', 'SchoolHoliday', 'StoreType', 'AssortmentType'],\n",
            "      dtype='object')\n",
            "Submission Set Shape:  (41088, 1140)\n",
            "Train Set Shape:  (50000, 1140)\n",
            "Y Train Shape:  (50000,)\n",
            "Validation Set Shape:  (50000, 1140)\n"
          ],
          "name": "stdout"
        }
      ]
    },
    {
      "cell_type": "markdown",
      "metadata": {
        "id": "9HNxJuynqate"
      },
      "source": [
        "****CNN"
      ]
    },
    {
      "cell_type": "code",
      "metadata": {
        "colab": {
          "base_uri": "https://localhost:8080/"
        },
        "id": "7GrRsepZqatf",
        "outputId": "9532ddec-c118-4daf-f67d-afb27b59151a"
      },
      "source": [
        "from keras import optimizers\n",
        "from keras.utils import plot_model\n",
        "from keras.models import Sequential, Model\n",
        "from keras.layers.convolutional import Conv1D, MaxPooling1D\n",
        "from keras.layers import Dense, LSTM, RepeatVector, TimeDistributed, Flatten, Dropout\n",
        "\n",
        "\n",
        "from keras import backend as K\n",
        "def rmse(y_true, y_pred):\n",
        "        return K.sqrt(K.mean(K.square(float(y_pred) - float(y_true)))) \n",
        "\n",
        "X_train = X_train.reshape((X_train.shape[0], X_train.shape[1], 1))\n",
        "X_val = X_val.reshape((X_val.shape[0], X_val.shape[1], 1))\n",
        "\n",
        "epochs = 3\n",
        "batch = 256\n",
        "lr = 0.001\n",
        "adam = optimizers.Adam(lr)\n",
        "\n",
        "model_cnn = Sequential()\n",
        "model_cnn.add(Conv1D(filters=256, kernel_size=2, activation='relu', input_shape=(X_train.shape[1], X_train.shape[2])))\n",
        "model_cnn.add(MaxPooling1D(pool_size=2))\n",
        "model_cnn.add(Flatten())\n",
        "model_cnn.add(Dropout(0.1))\n",
        "model_cnn.add(Dense(1024, activation='relu'))\n",
        "model_cnn.add(Dense(1))\n",
        "model_cnn.compile(loss=rmse, optimizer=adam)\n",
        "model_cnn.summary()\n",
        "\n",
        "\n",
        "cnn_history = model_cnn.fit(X_train, Y_train, epochs=epochs, validation_data=(X_val, Y_val), verbose=1) "
      ],
      "execution_count": null,
      "outputs": [
        {
          "output_type": "stream",
          "text": [
            "Model: \"sequential\"\n",
            "_________________________________________________________________\n",
            "Layer (type)                 Output Shape              Param #   \n",
            "=================================================================\n",
            "conv1d (Conv1D)              (None, 1139, 256)         768       \n",
            "_________________________________________________________________\n",
            "max_pooling1d (MaxPooling1D) (None, 569, 256)          0         \n",
            "_________________________________________________________________\n",
            "flatten (Flatten)            (None, 145664)            0         \n",
            "_________________________________________________________________\n",
            "dropout (Dropout)            (None, 145664)            0         \n",
            "_________________________________________________________________\n",
            "dense (Dense)                (None, 1024)              149160960 \n",
            "_________________________________________________________________\n",
            "dense_1 (Dense)              (None, 1)                 1025      \n",
            "=================================================================\n",
            "Total params: 149,162,753\n",
            "Trainable params: 149,162,753\n",
            "Non-trainable params: 0\n",
            "_________________________________________________________________\n",
            "Epoch 1/3\n",
            "1563/1563 [==============================] - 102s 45ms/step - loss: 3397.8995 - val_loss: 2097.6931\n",
            "Epoch 2/3\n",
            "1563/1563 [==============================] - 70s 45ms/step - loss: 1923.7680 - val_loss: 1724.2810\n",
            "Epoch 3/3\n",
            "1563/1563 [==============================] - 70s 45ms/step - loss: 1632.2402 - val_loss: 1532.1184\n"
          ],
          "name": "stdout"
        }
      ]
    },
    {
      "cell_type": "code",
      "metadata": {
        "id": "3Nu3hmQNqath"
      },
      "source": [
        "res = model_cnn.predict(X_test_submission.reshape((X_test_submission.shape[0], X_test_submission.shape[1], 1)))"
      ],
      "execution_count": null,
      "outputs": []
    },
    {
      "cell_type": "code",
      "metadata": {
        "id": "IC7IWcICqati",
        "colab": {
          "base_uri": "https://localhost:8080/"
        },
        "outputId": "12efe649-ffb6-4f1f-b521-c671ce82eb84"
      },
      "source": [
        "print(\"res_min\", np.min(res))\n",
        "print('res_max', np.max(res))\n",
        "print('res_mean', np.mean(res))"
      ],
      "execution_count": null,
      "outputs": [
        {
          "output_type": "stream",
          "text": [
            "res_min -167.53598\n",
            "res_max 21987.955\n",
            "res_mean 7085.8296\n"
          ],
          "name": "stdout"
        }
      ]
    }
  ]
}